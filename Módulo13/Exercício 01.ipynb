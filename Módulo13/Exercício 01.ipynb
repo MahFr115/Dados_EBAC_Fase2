{
 "cells": [
  {
   "cell_type": "markdown",
   "metadata": {},
   "source": [
    "# EBAC - Regressão II - regressão múltipla\n",
    "\n",
    "## Tarefa I"
   ]
  },
  {
   "cell_type": "markdown",
   "metadata": {},
   "source": [
    "#### Previsão de renda\n",
    "\n",
    "Vamos trabalhar com a base 'previsao_de_renda.csv', que é a base do seu próximo projeto. Vamos usar os recursos que vimos até aqui nesta base.\n",
    "\n",
    "|variavel|descrição|\n",
    "|-|-|\n",
    "|data_ref                | Data de referência de coleta das variáveis |\n",
    "|index                   | Código de identificação do cliente|\n",
    "|sexo                    | Sexo do cliente|\n",
    "|posse_de_veiculo        | Indica se o cliente possui veículo|\n",
    "|posse_de_imovel         | Indica se o cliente possui imóvel|\n",
    "|qtd_filhos              | Quantidade de filhos do cliente|\n",
    "|tipo_renda              | Tipo de renda do cliente|\n",
    "|educacao                | Grau de instrução do cliente|\n",
    "|estado_civil            | Estado civil do cliente|\n",
    "|tipo_residencia         | Tipo de residência do cliente (própria, alugada etc)|\n",
    "|idade                   | Idade do cliente|\n",
    "|tempo_emprego           | Tempo no emprego atual|\n",
    "|qt_pessoas_residencia   | Quantidade de pessoas que moram na residência|\n",
    "|renda                   | Renda em reais|"
   ]
  },
  {
   "cell_type": "code",
   "execution_count": 1,
   "metadata": {},
   "outputs": [],
   "source": [
    "# Importando bibliotecas\n",
    "import pandas as pd\n",
    "import patsy as pt\n",
    "import numpy as np\n",
    "import statsmodels.formula.api as smf\n",
    "import statsmodels.api as sm"
   ]
  },
  {
   "cell_type": "code",
   "execution_count": 2,
   "metadata": {},
   "outputs": [],
   "source": [
    "df = pd.read_csv('previsao_de_renda.csv')"
   ]
  },
  {
   "cell_type": "code",
   "execution_count": 3,
   "metadata": {},
   "outputs": [
    {
     "name": "stdout",
     "output_type": "stream",
     "text": [
      "<class 'pandas.core.frame.DataFrame'>\n",
      "RangeIndex: 15000 entries, 0 to 14999\n",
      "Data columns (total 15 columns):\n",
      " #   Column                 Non-Null Count  Dtype  \n",
      "---  ------                 --------------  -----  \n",
      " 0   Unnamed: 0             15000 non-null  int64  \n",
      " 1   data_ref               15000 non-null  object \n",
      " 2   id_cliente             15000 non-null  int64  \n",
      " 3   sexo                   15000 non-null  object \n",
      " 4   posse_de_veiculo       15000 non-null  bool   \n",
      " 5   posse_de_imovel        15000 non-null  bool   \n",
      " 6   qtd_filhos             15000 non-null  int64  \n",
      " 7   tipo_renda             15000 non-null  object \n",
      " 8   educacao               15000 non-null  object \n",
      " 9   estado_civil           15000 non-null  object \n",
      " 10  tipo_residencia        15000 non-null  object \n",
      " 11  idade                  15000 non-null  int64  \n",
      " 12  tempo_emprego          12427 non-null  float64\n",
      " 13  qt_pessoas_residencia  15000 non-null  float64\n",
      " 14  renda                  15000 non-null  float64\n",
      "dtypes: bool(2), float64(3), int64(4), object(6)\n",
      "memory usage: 1.5+ MB\n"
     ]
    }
   ],
   "source": [
    "df.info()"
   ]
  },
  {
   "cell_type": "code",
   "execution_count": 4,
   "metadata": {},
   "outputs": [
    {
     "data": {
      "text/html": [
       "<div>\n",
       "<style scoped>\n",
       "    .dataframe tbody tr th:only-of-type {\n",
       "        vertical-align: middle;\n",
       "    }\n",
       "\n",
       "    .dataframe tbody tr th {\n",
       "        vertical-align: top;\n",
       "    }\n",
       "\n",
       "    .dataframe thead th {\n",
       "        text-align: right;\n",
       "    }\n",
       "</style>\n",
       "<table border=\"1\" class=\"dataframe\">\n",
       "  <thead>\n",
       "    <tr style=\"text-align: right;\">\n",
       "      <th></th>\n",
       "      <th>sexo</th>\n",
       "      <th>posse_de_veiculo</th>\n",
       "      <th>posse_de_imovel</th>\n",
       "      <th>qtd_filhos</th>\n",
       "      <th>tipo_renda</th>\n",
       "      <th>educacao</th>\n",
       "      <th>estado_civil</th>\n",
       "      <th>tipo_residencia</th>\n",
       "      <th>idade</th>\n",
       "      <th>tempo_emprego</th>\n",
       "      <th>qt_pessoas_residencia</th>\n",
       "      <th>renda</th>\n",
       "    </tr>\n",
       "  </thead>\n",
       "  <tbody>\n",
       "    <tr>\n",
       "      <th>0</th>\n",
       "      <td>F</td>\n",
       "      <td>False</td>\n",
       "      <td>True</td>\n",
       "      <td>0</td>\n",
       "      <td>Empresário</td>\n",
       "      <td>Secundário</td>\n",
       "      <td>Solteiro</td>\n",
       "      <td>Casa</td>\n",
       "      <td>26</td>\n",
       "      <td>6.60274</td>\n",
       "      <td>1.0</td>\n",
       "      <td>8060.34</td>\n",
       "    </tr>\n",
       "  </tbody>\n",
       "</table>\n",
       "</div>"
      ],
      "text/plain": [
       "  sexo  posse_de_veiculo  posse_de_imovel  qtd_filhos  tipo_renda    educacao  \\\n",
       "0    F             False             True           0  Empresário  Secundário   \n",
       "\n",
       "  estado_civil tipo_residencia  idade  tempo_emprego  qt_pessoas_residencia  \\\n",
       "0     Solteiro            Casa     26        6.60274                    1.0   \n",
       "\n",
       "     renda  \n",
       "0  8060.34  "
      ]
     },
     "execution_count": 4,
     "metadata": {},
     "output_type": "execute_result"
    }
   ],
   "source": [
    "# Reduzindo o número de colunas analizadas\n",
    "# Retirando as colunas aleatórias de identificação (Unnamed: 0, data_ref, id_cliente)\n",
    "\n",
    "analise = df.iloc[:, 3:]\n",
    "analise.head(1)"
   ]
  },
  {
   "cell_type": "markdown",
   "metadata": {},
   "source": [
    "1. Ajuste um modelo para prever log(renda) considerando todas as covariáveis disponíveis.\n",
    "    - Utilizando os recursos do Patsy, coloque as variáveis qualitativas como *dummies*.\n",
    "    - Mantenha sempre a categoria mais frequente como casela de referência\n",
    "    - Avalie os parâmetros e veja se parecem fazer sentido prático.\n",
    "    "
   ]
  },
  {
   "cell_type": "code",
   "execution_count": 17,
   "metadata": {},
   "outputs": [
    {
     "data": {
      "text/plain": [
       "variable          value              \n",
       "educacao          Primário                 165\n",
       "                  Pós graduação             26\n",
       "                  Secundário              8895\n",
       "                  Superior completo       5335\n",
       "                  Superior incompleto      579\n",
       "estado_civil      Casado                 10534\n",
       "                  Separado                 879\n",
       "                  Solteiro                1798\n",
       "                  União                   1078\n",
       "                  Viúvo                    711\n",
       "posse_de_imovel   False                   4857\n",
       "                  True                   10143\n",
       "posse_de_veiculo  False                   9140\n",
       "                  True                    5860\n",
       "sexo              F                      10119\n",
       "                  M                       4881\n",
       "tipo_renda        Assalariado             7633\n",
       "                  Bolsista                   9\n",
       "                  Empresário              3508\n",
       "                  Pensionista             2582\n",
       "                  Servidor público        1268\n",
       "tipo_residencia   Aluguel                  194\n",
       "                  Casa                   13532\n",
       "                  Com os pais              675\n",
       "                  Comunitário               64\n",
       "                  Estúdio                   83\n",
       "                  Governamental            452\n",
       "Name: count, dtype: int64"
      ]
     },
     "execution_count": 17,
     "metadata": {},
     "output_type": "execute_result"
    }
   ],
   "source": [
    "#Selecionar a frequência de cada resposta qualitativa:\n",
    "# Selecionar as colunas desejadas\n",
    "colunas = ['sexo', 'posse_de_veiculo', 'posse_de_imovel', 'tipo_renda', 'educacao', 'estado_civil', 'tipo_residencia']\n",
    "contagem = analise[colunas].melt()\n",
    "\n",
    "# Contar os valores únicos em todas as colunas\n",
    "contagem.value_counts().sort_index(level=0)"
   ]
  },
  {
   "cell_type": "code",
   "execution_count": 33,
   "metadata": {},
   "outputs": [
    {
     "name": "stdout",
     "output_type": "stream",
     "text": [
      "Análise: \n",
      "                             OLS Regression Results                            \n",
      "==============================================================================\n",
      "Dep. Variable:          np.log(renda)   R-squared:                       0.158\n",
      "Model:                            OLS   Adj. R-squared:                  0.157\n",
      "Method:                 Least Squares   F-statistic:                     176.1\n",
      "Date:                Wed, 15 Jan 2025   Prob (F-statistic):               0.00\n",
      "Time:                        15:57:48   Log-Likelihood:                -18132.\n",
      "No. Observations:               15000   AIC:                         3.630e+04\n",
      "Df Residuals:                   14983   BIC:                         3.643e+04\n",
      "Df Model:                          16                                         \n",
      "Covariance Type:            nonrobust                                         \n",
      "=====================================================================================================================\n",
      "                                                        coef    std err          t      P>|t|      [0.025      0.975]\n",
      "---------------------------------------------------------------------------------------------------------------------\n",
      "Intercept                                             8.0073      0.014    585.281      0.000       7.981       8.034\n",
      "sexo[T.M]                                             0.6917      0.015     44.634      0.000       0.661       0.722\n",
      "posse_de_veiculo[T.True]                              0.0184      0.015      1.247      0.213      -0.011       0.047\n",
      "C(posse_de_imovel, Treatment(1))[T.False]            -0.0964      0.015     -6.629      0.000      -0.125      -0.068\n",
      "tipo_renda[T.Bolsista]                                0.4465      0.271      1.650      0.099      -0.084       0.977\n",
      "tipo_renda[T.Empresário]                              0.0757      0.017      4.558      0.000       0.043       0.108\n",
      "tipo_renda[T.Pensionista]                            -0.1628      0.019     -8.417      0.000      -0.201      -0.125\n",
      "tipo_renda[T.Servidor público]                        0.2364      0.025      9.583      0.000       0.188       0.285\n",
      "estado_civil[T.Separado]                              0.0577      0.029      2.010      0.044       0.001       0.114\n",
      "estado_civil[T.Solteiro]                             -0.0358      0.021     -1.716      0.086      -0.077       0.005\n",
      "estado_civil[T.União]                                -0.0672      0.026     -2.580      0.010      -0.118      -0.016\n",
      "estado_civil[T.Viúvo]                                 0.0374      0.033      1.151      0.250      -0.026       0.101\n",
      "C(tipo_residencia, Treatment(1))[T.Aluguel]          -0.1228      0.059     -2.084      0.037      -0.238      -0.007\n",
      "C(tipo_residencia, Treatment(1))[T.Com os pais]      -0.1323      0.033     -4.061      0.000      -0.196      -0.068\n",
      "C(tipo_residencia, Treatment(1))[T.Comunitário]      -0.2113      0.102     -2.076      0.038      -0.411      -0.012\n",
      "C(tipo_residencia, Treatment(1))[T.Estúdio]           0.2039      0.090      2.278      0.023       0.028       0.379\n",
      "C(tipo_residencia, Treatment(1))[T.Governamental]     0.0427      0.039      1.091      0.276      -0.034       0.119\n",
      "==============================================================================\n",
      "Omnibus:                      151.918   Durbin-Watson:                   2.024\n",
      "Prob(Omnibus):                  0.000   Jarque-Bera (JB):              173.330\n",
      "Skew:                           0.198   Prob(JB):                     2.30e-38\n",
      "Kurtosis:                       3.347   Cond. No.                         51.2\n",
      "==============================================================================\n",
      "\n",
      "Notes:\n",
      "[1] Standard Errors assume that the covariance matrix of the errors is correctly specified.\n"
     ]
    }
   ],
   "source": [
    "# Variáveis qualitativas como dummies:\n",
    "# As variáveis qualitativas são sexo, posso_de_veiculo, posse_de_imoveis, tipo_renda, estado_civil e tipo_residencia\n",
    "# Considerando as variáveis mais frequentes, observando a contagem anterior\n",
    "\n",
    "y, x = pt.dmatrices('np.log(renda) ~ sexo + posse_de_veiculo + C(posse_de_imovel, Treatment(1)) + tipo_renda + estado_civil + C(tipo_residencia, Treatment(1))', data = analise)\n",
    "print(\"Análise: \\n\", sm.OLS(y, x).fit().summary())"
   ]
  },
  {
   "cell_type": "markdown",
   "metadata": {},
   "source": [
    "Os parêmtros analisados estão coerentes com os valores esperados. \n",
    "* O R² é 0.158, próximo a 0, não sendo, portanto, um bom modelo de análise.\n",
    "* Em relação ao valor de confiabilidade pessoas com posse_de_veiculo = True, estado_civil = viúvo, tipo_renda = Bolsista, tipo_residencia = Governamental são os únicos com valores superiores a 5%, tendo pouco impacto no resultado observado."
   ]
  },
  {
   "cell_type": "markdown",
   "metadata": {},
   "source": [
    "2. Remova a variável menos significante e analise:\n",
    "    - Observe os indicadores que vimos, e avalie se o modelo melhorou ou piorou na sua opinião.\n",
    "    - Observe os parâmetros e veja se algum se alterou muito."
   ]
  },
  {
   "cell_type": "code",
   "execution_count": 36,
   "metadata": {},
   "outputs": [
    {
     "name": "stdout",
     "output_type": "stream",
     "text": [
      "Análise: \n",
      "                             OLS Regression Results                            \n",
      "==============================================================================\n",
      "Dep. Variable:          np.log(renda)   R-squared:                       0.156\n",
      "Model:                            OLS   Adj. R-squared:                  0.156\n",
      "Method:                 Least Squares   F-statistic:                     252.8\n",
      "Date:                Wed, 15 Jan 2025   Prob (F-statistic):               0.00\n",
      "Time:                        17:30:23   Log-Likelihood:                -18148.\n",
      "No. Observations:               15000   AIC:                         3.632e+04\n",
      "Df Residuals:                   14988   BIC:                         3.641e+04\n",
      "Df Model:                          11                                         \n",
      "Covariance Type:            nonrobust                                         \n",
      "=============================================================================================================\n",
      "                                                coef    std err          t      P>|t|      [0.025      0.975]\n",
      "-------------------------------------------------------------------------------------------------------------\n",
      "Intercept                                     8.0029      0.014    587.404      0.000       7.976       8.030\n",
      "sexo[T.M]                                     0.6887      0.015     44.567      0.000       0.658       0.719\n",
      "posse_de_veiculo[T.True]                      0.0182      0.015      1.236      0.216      -0.011       0.047\n",
      "C(posse_de_imovel, Treatment(1))[T.False]    -0.1032      0.014     -7.227      0.000      -0.131      -0.075\n",
      "tipo_renda[T.Bolsista]                        0.4509      0.271      1.664      0.096      -0.080       0.982\n",
      "tipo_renda[T.Empresário]                      0.0793      0.017      4.776      0.000       0.047       0.112\n",
      "tipo_renda[T.Pensionista]                    -0.1541      0.019     -7.988      0.000      -0.192      -0.116\n",
      "tipo_renda[T.Servidor público]                0.2392      0.025      9.699      0.000       0.191       0.288\n",
      "estado_civil[T.Separado]                      0.0565      0.029      1.965      0.049       0.000       0.113\n",
      "estado_civil[T.Solteiro]                     -0.0418      0.021     -2.005      0.045      -0.083      -0.001\n",
      "estado_civil[T.União]                        -0.0701      0.026     -2.690      0.007      -0.121      -0.019\n",
      "estado_civil[T.Viúvo]                         0.0374      0.033      1.149      0.251      -0.026       0.101\n",
      "==============================================================================\n",
      "Omnibus:                      159.795   Durbin-Watson:                   2.023\n",
      "Prob(Omnibus):                  0.000   Jarque-Bera (JB):              183.868\n",
      "Skew:                           0.202   Prob(JB):                     1.18e-40\n",
      "Kurtosis:                       3.362   Cond. No.                         51.1\n",
      "==============================================================================\n",
      "\n",
      "Notes:\n",
      "[1] Standard Errors assume that the covariance matrix of the errors is correctly specified.\n"
     ]
    }
   ],
   "source": [
    "#O tipo residencial Governamental é o indicador com maior valor de P>|t|, assim:\n",
    "y, x = pt.dmatrices('np.log(renda) ~ sexo + posse_de_veiculo + C(posse_de_imovel, Treatment(1)) + tipo_renda + estado_civil', data = analise)\n",
    "print(\"Análise: \\n\", sm.OLS(y, x).fit().summary())"
   ]
  },
  {
   "cell_type": "markdown",
   "metadata": {},
   "source": [
    "* Houve uma pequena redução dp R², de 0,002. \n",
    "* Em relação aos valores de confiabilidade houveram pequenas alterações dos valores, sendo em sua maioria reduções.  "
   ]
  },
  {
   "cell_type": "markdown",
   "metadata": {},
   "source": [
    "3. Siga removendo as variáveis menos significantes, sempre que o *p-value* for menor que 5%. Compare o modelo final com o inicial. Observe os indicadores e conclua se o modelo parece melhor. "
   ]
  },
  {
   "cell_type": "code",
   "execution_count": 41,
   "metadata": {},
   "outputs": [
    {
     "name": "stdout",
     "output_type": "stream",
     "text": [
      "Análise: \n",
      "                             OLS Regression Results                            \n",
      "==============================================================================\n",
      "Dep. Variable:          np.log(renda)   R-squared:                       0.155\n",
      "Model:                            OLS   Adj. R-squared:                  0.155\n",
      "Method:                 Least Squares   F-statistic:                     394.3\n",
      "Date:                Wed, 15 Jan 2025   Prob (F-statistic):               0.00\n",
      "Time:                        17:44:13   Log-Likelihood:                -18157.\n",
      "No. Observations:               15000   AIC:                         3.633e+04\n",
      "Df Residuals:                   14992   BIC:                         3.639e+04\n",
      "Df Model:                           7                                         \n",
      "Covariance Type:            nonrobust                                         \n",
      "=============================================================================================================\n",
      "                                                coef    std err          t      P>|t|      [0.025      0.975]\n",
      "-------------------------------------------------------------------------------------------------------------\n",
      "Intercept                                     7.9981      0.013    634.904      0.000       7.973       8.023\n",
      "sexo[T.M]                                     0.6863      0.015     44.696      0.000       0.656       0.716\n",
      "posse_de_veiculo[T.True]                      0.0197      0.015      1.350      0.177      -0.009       0.048\n",
      "C(posse_de_imovel, Treatment(1))[T.False]    -0.1032      0.014     -7.232      0.000      -0.131      -0.075\n",
      "tipo_renda[T.Bolsista]                        0.4557      0.271      1.682      0.093      -0.075       0.987\n",
      "tipo_renda[T.Empresário]                      0.0761      0.017      4.589      0.000       0.044       0.109\n",
      "tipo_renda[T.Pensionista]                    -0.1491      0.019     -7.851      0.000      -0.186      -0.112\n",
      "tipo_renda[T.Servidor público]                0.2382      0.025      9.657      0.000       0.190       0.287\n",
      "==============================================================================\n",
      "Omnibus:                      160.309   Durbin-Watson:                   2.024\n",
      "Prob(Omnibus):                  0.000   Jarque-Bera (JB):              185.337\n",
      "Skew:                           0.201   Prob(JB):                     5.68e-41\n",
      "Kurtosis:                       3.368   Cond. No.                         50.8\n",
      "==============================================================================\n",
      "\n",
      "Notes:\n",
      "[1] Standard Errors assume that the covariance matrix of the errors is correctly specified.\n"
     ]
    }
   ],
   "source": [
    "# Retirando estado_civil que é o maior valor de R², 0,251, após a questão anterior \n",
    "y, x = pt.dmatrices('np.log(renda) ~ sexo + posse_de_veiculo + C(posse_de_imovel, Treatment(1)) + tipo_renda', data = analise)\n",
    "print(\"Análise: \\n\", sm.OLS(y, x).fit().summary())"
   ]
  },
  {
   "cell_type": "code",
   "execution_count": 42,
   "metadata": {},
   "outputs": [
    {
     "name": "stdout",
     "output_type": "stream",
     "text": [
      "Análise: \n",
      "                             OLS Regression Results                            \n",
      "==============================================================================\n",
      "Dep. Variable:          np.log(renda)   R-squared:                       0.155\n",
      "Model:                            OLS   Adj. R-squared:                  0.155\n",
      "Method:                 Least Squares   F-statistic:                     459.7\n",
      "Date:                Wed, 15 Jan 2025   Prob (F-statistic):               0.00\n",
      "Time:                        17:45:43   Log-Likelihood:                -18158.\n",
      "No. Observations:               15000   AIC:                         3.633e+04\n",
      "Df Residuals:                   14993   BIC:                         3.638e+04\n",
      "Df Model:                           6                                         \n",
      "Covariance Type:            nonrobust                                         \n",
      "=============================================================================================================\n",
      "                                                coef    std err          t      P>|t|      [0.025      0.975]\n",
      "-------------------------------------------------------------------------------------------------------------\n",
      "Intercept                                     8.0039      0.012    675.834      0.000       7.981       8.027\n",
      "sexo[T.M]                                     0.6934      0.014     48.030      0.000       0.665       0.722\n",
      "C(posse_de_imovel, Treatment(1))[T.False]    -0.1035      0.014     -7.255      0.000      -0.131      -0.076\n",
      "tipo_renda[T.Bolsista]                        0.4499      0.271      1.660      0.097      -0.081       0.981\n",
      "tipo_renda[T.Empresário]                      0.0765      0.017      4.614      0.000       0.044       0.109\n",
      "tipo_renda[T.Pensionista]                    -0.1512      0.019     -7.992      0.000      -0.188      -0.114\n",
      "tipo_renda[T.Servidor público]                0.2382      0.025      9.655      0.000       0.190       0.287\n",
      "==============================================================================\n",
      "Omnibus:                      158.700   Durbin-Watson:                   2.023\n",
      "Prob(Omnibus):                  0.000   Jarque-Bera (JB):              183.296\n",
      "Skew:                           0.200   Prob(JB):                     1.58e-40\n",
      "Kurtosis:                       3.366   Cond. No.                         47.5\n",
      "==============================================================================\n",
      "\n",
      "Notes:\n",
      "[1] Standard Errors assume that the covariance matrix of the errors is correctly specified.\n"
     ]
    }
   ],
   "source": [
    "# Retirando posse_de_veiculo que é o maior valor de R², 0,177, após o passo anterior \n",
    "y, x = pt.dmatrices('np.log(renda) ~ sexo + C(posse_de_imovel, Treatment(1)) + tipo_renda', data = analise)\n",
    "print(\"Análise: \\n\", sm.OLS(y, x).fit().summary())"
   ]
  },
  {
   "cell_type": "code",
   "execution_count": 43,
   "metadata": {},
   "outputs": [
    {
     "name": "stdout",
     "output_type": "stream",
     "text": [
      "Análise: \n",
      "                             OLS Regression Results                            \n",
      "==============================================================================\n",
      "Dep. Variable:          np.log(renda)   R-squared:                       0.143\n",
      "Model:                            OLS   Adj. R-squared:                  0.143\n",
      "Method:                 Least Squares   F-statistic:                     1248.\n",
      "Date:                Wed, 15 Jan 2025   Prob (F-statistic):               0.00\n",
      "Time:                        17:46:31   Log-Likelihood:                -18270.\n",
      "No. Observations:               15000   AIC:                         3.655e+04\n",
      "Df Residuals:                   14997   BIC:                         3.657e+04\n",
      "Df Model:                           2                                         \n",
      "Covariance Type:            nonrobust                                         \n",
      "=============================================================================================================\n",
      "                                                coef    std err          t      P>|t|      [0.025      0.975]\n",
      "-------------------------------------------------------------------------------------------------------------\n",
      "Intercept                                     8.0048      0.009    867.779      0.000       7.987       8.023\n",
      "sexo[T.M]                                     0.7120      0.014     49.855      0.000       0.684       0.740\n",
      "C(posse_de_imovel, Treatment(1))[T.False]    -0.0873      0.014     -6.103      0.000      -0.115      -0.059\n",
      "==============================================================================\n",
      "Omnibus:                      197.021   Durbin-Watson:                   2.025\n",
      "Prob(Omnibus):                  0.000   Jarque-Bera (JB):              223.773\n",
      "Skew:                           0.236   Prob(JB):                     2.56e-49\n",
      "Kurtosis:                       3.368   Cond. No.                         2.61\n",
      "==============================================================================\n",
      "\n",
      "Notes:\n",
      "[1] Standard Errors assume that the covariance matrix of the errors is correctly specified.\n"
     ]
    }
   ],
   "source": [
    "# Retirando tipo_renda que é o maior valor de R², 0,097, após o passo anterior \n",
    "y, x = pt.dmatrices('np.log(renda) ~ sexo + C(posse_de_imovel, Treatment(1))', data = analise)\n",
    "print(\"Análise: \\n\", sm.OLS(y, x).fit().summary())"
   ]
  },
  {
   "cell_type": "markdown",
   "metadata": {},
   "source": [
    "* Após a exclusão das variáveis houve uma pequena redução no valor do R², aproximandamente, 0,015, quando comparado ao modelo inicial. \n",
    "* Como os valores de P>|t| são iguais e o R² é menor, inidicando não haver erro no modelo, portanto  esse modelo parace melhor. "
   ]
  }
 ],
 "metadata": {
  "kernelspec": {
   "display_name": "Python 3 (ipykernel)",
   "language": "python",
   "name": "python3"
  },
  "language_info": {
   "codemirror_mode": {
    "name": "ipython",
    "version": 3
   },
   "file_extension": ".py",
   "mimetype": "text/x-python",
   "name": "python",
   "nbconvert_exporter": "python",
   "pygments_lexer": "ipython3",
   "version": "3.12.4"
  }
 },
 "nbformat": 4,
 "nbformat_minor": 4
}
