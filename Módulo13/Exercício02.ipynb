{
 "cells": [
  {
   "cell_type": "markdown",
   "metadata": {},
   "source": [
    "# EBAC - Regressão II - regressão múltipla\n",
    "\n",
    "## Tarefa I"
   ]
  },
  {
   "cell_type": "markdown",
   "metadata": {},
   "source": [
    "#### Previsão de renda II\n",
    "\n",
    "Vamos continuar trabalhando com a base 'previsao_de_renda.csv', que é a base do seu próximo projeto. Vamos usar os recursos que vimos até aqui nesta base.\n",
    "\n",
    "|variavel|descrição|\n",
    "|-|-|\n",
    "|data_ref                | Data de referência de coleta das variáveis |\n",
    "|index                   | Código de identificação do cliente|\n",
    "|sexo                    | Sexo do cliente|\n",
    "|posse_de_veiculo        | Indica se o cliente possui veículo|\n",
    "|posse_de_imovel         | Indica se o cliente possui imóvel|\n",
    "|qtd_filhos              | Quantidade de filhos do cliente|\n",
    "|tipo_renda              | Tipo de renda do cliente|\n",
    "|educacao                | Grau de instrução do cliente|\n",
    "|estado_civil            | Estado civil do cliente|\n",
    "|tipo_residencia         | Tipo de residência do cliente (própria, alugada etc)|\n",
    "|idade                   | Idade do cliente|\n",
    "|tempo_emprego           | Tempo no emprego atual|\n",
    "|qt_pessoas_residencia   | Quantidade de pessoas que moram na residência|\n",
    "|renda                   | Renda em reais|"
   ]
  },
  {
   "cell_type": "code",
   "execution_count": 1,
   "metadata": {},
   "outputs": [],
   "source": [
    "import pandas as pd\n",
    "import numpy as np\n",
    "\n",
    "from sklearn.linear_model import Ridge, Lasso, LinearRegression\n",
    "from sklearn.model_selection import train_test_split\n",
    "from sklearn.metrics import r2_score, accuracy_score\n",
    "from sklearn.preprocessing import StandardScaler\n",
    "from sklearn.tree import DecisionTreeRegressor\n",
    "\n",
    "import statsmodels.api as sm"
   ]
  },
  {
   "cell_type": "code",
   "execution_count": 2,
   "metadata": {},
   "outputs": [],
   "source": [
    "df = pd.read_csv('previsao_de_renda.csv')"
   ]
  },
  {
   "cell_type": "code",
   "execution_count": 3,
   "metadata": {},
   "outputs": [
    {
     "name": "stdout",
     "output_type": "stream",
     "text": [
      "<class 'pandas.core.frame.DataFrame'>\n",
      "RangeIndex: 15000 entries, 0 to 14999\n",
      "Data columns (total 15 columns):\n",
      " #   Column                 Non-Null Count  Dtype  \n",
      "---  ------                 --------------  -----  \n",
      " 0   Unnamed: 0             15000 non-null  int64  \n",
      " 1   data_ref               15000 non-null  object \n",
      " 2   id_cliente             15000 non-null  int64  \n",
      " 3   sexo                   15000 non-null  object \n",
      " 4   posse_de_veiculo       15000 non-null  bool   \n",
      " 5   posse_de_imovel        15000 non-null  bool   \n",
      " 6   qtd_filhos             15000 non-null  int64  \n",
      " 7   tipo_renda             15000 non-null  object \n",
      " 8   educacao               15000 non-null  object \n",
      " 9   estado_civil           15000 non-null  object \n",
      " 10  tipo_residencia        15000 non-null  object \n",
      " 11  idade                  15000 non-null  int64  \n",
      " 12  tempo_emprego          12427 non-null  float64\n",
      " 13  qt_pessoas_residencia  15000 non-null  float64\n",
      " 14  renda                  15000 non-null  float64\n",
      "dtypes: bool(2), float64(3), int64(4), object(6)\n",
      "memory usage: 1.5+ MB\n"
     ]
    }
   ],
   "source": [
    "df.info()"
   ]
  },
  {
   "cell_type": "code",
   "execution_count": 4,
   "metadata": {},
   "outputs": [
    {
     "name": "stdout",
     "output_type": "stream",
     "text": [
      "<class 'pandas.core.frame.DataFrame'>\n",
      "RangeIndex: 15000 entries, 0 to 14999\n",
      "Data columns (total 15 columns):\n",
      " #   Column                 Non-Null Count  Dtype  \n",
      "---  ------                 --------------  -----  \n",
      " 0   Unnamed: 0             15000 non-null  int64  \n",
      " 1   data_ref               15000 non-null  object \n",
      " 2   id_cliente             15000 non-null  int64  \n",
      " 3   sexo                   15000 non-null  object \n",
      " 4   posse_de_veiculo       15000 non-null  bool   \n",
      " 5   posse_de_imovel        15000 non-null  bool   \n",
      " 6   qtd_filhos             15000 non-null  int64  \n",
      " 7   tipo_renda             15000 non-null  object \n",
      " 8   educacao               15000 non-null  object \n",
      " 9   estado_civil           15000 non-null  object \n",
      " 10  tipo_residencia        15000 non-null  object \n",
      " 11  idade                  15000 non-null  int64  \n",
      " 12  tempo_emprego          15000 non-null  float64\n",
      " 13  qt_pessoas_residencia  15000 non-null  float64\n",
      " 14  renda                  15000 non-null  float64\n",
      "dtypes: bool(2), float64(3), int64(4), object(6)\n",
      "memory usage: 1.5+ MB\n"
     ]
    }
   ],
   "source": [
    "# Completando as células da coluna tempo_emprego com a média de seus valores\n",
    "df['tempo_emprego'] = df['tempo_emprego'].fillna(df['tempo_emprego'].mean())\n",
    "df.info()"
   ]
  },
  {
   "cell_type": "code",
   "execution_count": 5,
   "metadata": {},
   "outputs": [],
   "source": [
    "# Separando as variáveis numéricas (num) e categóricas (cat), reduzindo a base as dados de interesse para o estudo:\n",
    "cat = ['sexo','tipo_renda','educacao','estado_civil','tipo_residencia']\n",
    "num = ['idade', 'tempo_emprego', 'qtd_filhos']"
   ]
  },
  {
   "cell_type": "code",
   "execution_count": 6,
   "metadata": {},
   "outputs": [],
   "source": [
    "# Variáveis independentes, de interesse\n",
    "X = df[cat + num]\n",
    "# Variável dependente\n",
    "y = df['renda']"
   ]
  },
  {
   "cell_type": "code",
   "execution_count": 7,
   "metadata": {},
   "outputs": [],
   "source": [
    "# Convertendo todas as colunas booleanas para 0 e 1 automaticamente\n",
    "bool_cols = X.select_dtypes(include=['bool']).columns\n",
    "for col in bool_cols:\n",
    "    X[col] = X[col].replace({False: 0, True: 1}).astype(int)"
   ]
  },
  {
   "cell_type": "code",
   "execution_count": 8,
   "metadata": {},
   "outputs": [],
   "source": [
    "# Retirando as colunas tipo object\n",
    "X = pd.get_dummies(X, columns=cat, drop_first=True)\n",
    "X = X.astype(float).dropna()"
   ]
  },
  {
   "cell_type": "code",
   "execution_count": 9,
   "metadata": {},
   "outputs": [],
   "source": [
    "# Garantindo que as colunas numéricas sejam float\n",
    "for col in num:\n",
    "    X[col] = pd.to_numeric(X[col], errors='coerce')\n",
    "X[num] = X[num].fillna(X[num].mean())\n",
    "\n",
    "# Garantindo que y seja numérico\n",
    "y = pd.to_numeric(y, errors='coerce').fillna(y.mean())\n",
    "\n",
    "# Escalando as variáveis numéricas\n",
    "scaler = StandardScaler()\n",
    "X[num] = scaler.fit_transform(X[num])"
   ]
  },
  {
   "cell_type": "markdown",
   "metadata": {},
   "source": [
    "1. Separe a base em treinamento e teste (25% para teste, 75% para treinamento)."
   ]
  },
  {
   "cell_type": "code",
   "execution_count": 10,
   "metadata": {},
   "outputs": [
    {
     "name": "stdout",
     "output_type": "stream",
     "text": [
      "Tamanho do conjunto de treinamento: 11250 linhas\n",
      "Tamanho do conjunto de teste: 3750 linhas\n"
     ]
    }
   ],
   "source": [
    "X_train, X_test, y_train, y_test = train_test_split(X, y, test_size=0.25, random_state=42)\n",
    "\n",
    "# Tamanho das bases\n",
    "print(f\"Tamanho do conjunto de treinamento: {X_train.shape[0]} linhas\")\n",
    "print(f\"Tamanho do conjunto de teste: {X_test.shape[0]} linhas\")"
   ]
  },
  {
   "cell_type": "markdown",
   "metadata": {},
   "source": [
    "2. Rode uma regularização *ridge* com alpha = [0, 0.001, 0.005, 0.01, 0.05, 0.1] e avalie o $R^2$ na base de testes. Qual o melhor modelo?"
   ]
  },
  {
   "cell_type": "code",
   "execution_count": 11,
   "metadata": {},
   "outputs": [],
   "source": [
    "# Lista de alphas para Ridge\n",
    "alphas = [0, 0.001, 0.005, 0.01, 0.05, 0.1]"
   ]
  },
  {
   "cell_type": "code",
   "execution_count": 12,
   "metadata": {},
   "outputs": [
    {
     "name": "stdout",
     "output_type": "stream",
     "text": [
      "Resultados Ridge na base de testes:\n",
      "Alpha: 0, R²: 0.2682\n",
      "Alpha: 0.001, R²: 0.2682\n",
      "Alpha: 0.005, R²: 0.2682\n",
      "Alpha: 0.01, R²: 0.2682\n",
      "Alpha: 0.05, R²: 0.2682\n",
      "Alpha: 0.1, R²: 0.2682\n"
     ]
    }
   ],
   "source": [
    "# Rodando Ridge e avaliando R² na base de testes\n",
    "print(\"Resultados Ridge na base de testes:\")\n",
    "best_alpha_r = None\n",
    "best_r2_r = -float('inf')  # Inicializando com valor muito baixo\n",
    "\n",
    "for alpha in alphas:\n",
    "    if alpha == 0:\n",
    "        model = LinearRegression()  # Alpha = 0 é equivalente a regressão linear\n",
    "    else:\n",
    "        model = Ridge(alpha=alpha)\n",
    "    model.fit(X_train, y_train)\n",
    "    y_pred = model.predict(X_test)\n",
    "    r2 = r2_score(y_test, y_pred)\n",
    "    print(f'Alpha: {alpha}, R²: {r2:.4f}')\n",
    "    \n",
    "    # Identificando o melhor modelo\n",
    "    if r2 > best_r2_r:\n",
    "        best_r2_r = r2\n",
    "        best_alpha_r = alpha"
   ]
  },
  {
   "cell_type": "code",
   "execution_count": 13,
   "metadata": {},
   "outputs": [
    {
     "name": "stdout",
     "output_type": "stream",
     "text": [
      "\n",
      "O melhor resultado encontrado no método de regularização ridge é para alpha 0.1. Já que ali se encontra maiores valores de R² = 0.2682\n"
     ]
    }
   ],
   "source": [
    "# Resultado do melhor modelo\n",
    "print(f'\\nO melhor resultado encontrado no método de regularização ridge é para alpha {best_alpha_r}. Já que ali se encontra maiores valores de R² = {best_r2_r:.4f}')"
   ]
  },
  {
   "cell_type": "markdown",
   "metadata": {},
   "source": [
    "3. Faça o mesmo que no passo 2, com uma regressão *LASSO*. Qual método chega a um melhor resultado?"
   ]
  },
  {
   "cell_type": "code",
   "execution_count": 14,
   "metadata": {},
   "outputs": [
    {
     "name": "stdout",
     "output_type": "stream",
     "text": [
      "\n",
      "Resultados Lasso na base de testes:\n",
      "Alpha: 0, R²: 0.2682\n",
      "Alpha: 0.001, R²: 0.2682\n",
      "Alpha: 0.005, R²: 0.2682\n",
      "Alpha: 0.01, R²: 0.2682\n",
      "Alpha: 0.05, R²: 0.2682\n",
      "Alpha: 0.1, R²: 0.2682\n"
     ]
    }
   ],
   "source": [
    "print(\"\\nResultados Lasso na base de testes:\")\n",
    "best_alpha_l = None\n",
    "best_r2_l = -float('inf')\n",
    "\n",
    "for alpha in alphas:\n",
    "    if alpha == 0:\n",
    "        model = LinearRegression()\n",
    "    else:\n",
    "        model = Lasso(alpha=alpha, max_iter=10000) \n",
    "    model.fit(X_train, y_train)\n",
    "    y_pred = model.predict(X_test)\n",
    "    r2 = r2_score(y_test, y_pred)\n",
    "    print(f'Alpha: {alpha}, R²: {r2:.4f}')\n",
    "    \n",
    "    if r2 > best_r2_l:\n",
    "        best_r2_l = r2\n",
    "        best_alpha_l = alpha"
   ]
  },
  {
   "cell_type": "code",
   "execution_count": 15,
   "metadata": {},
   "outputs": [
    {
     "name": "stdout",
     "output_type": "stream",
     "text": [
      "\n",
      "O melhor resultado encontrado no método de regularização lasso é para alpha 0.1, já que ali se encontra o maior valor de R² = 0.2682\n"
     ]
    }
   ],
   "source": [
    "print(f'\\nO melhor resultado encontrado no método de regularização lasso é para alpha {best_alpha_l}, já que ali se encontra o maior valor de R² = {best_r2_l:.4f}')"
   ]
  },
  {
   "cell_type": "markdown",
   "metadata": {},
   "source": [
    "4. Rode um modelo *stepwise*. Avalie o $R^2$ na base de testes. Qual o melhor resultado?"
   ]
  },
  {
   "cell_type": "code",
   "execution_count": 16,
   "metadata": {},
   "outputs": [],
   "source": [
    "# Função para seleção stepwise\n",
    "def stepwise_selection(X, y, threshold_in=0.05, threshold_out=0.10, verbose=True):\n",
    "    included = []\n",
    "    while True:\n",
    "        changed = False\n",
    "        excluded = list(set(X.columns) - set(included))\n",
    "        new_pval = pd.Series(index=excluded, dtype=float)\n",
    "        for new_column in excluded:\n",
    "            model = sm.OLS(y, sm.add_constant(X[included + [new_column]])).fit()\n",
    "            new_pval[new_column] = model.pvalues[new_column]\n",
    "        best_pval = new_pval.min()\n",
    "        if best_pval < threshold_in:\n",
    "            best_feature = new_pval.idxmin()\n",
    "            included.append(best_feature)\n",
    "            changed = True\n",
    "            if verbose:\n",
    "                print(f'Adicionada: {best_feature}, p-valor = {best_pval:.4f}')\n",
    "        \n",
    "        if included:\n",
    "            model = sm.OLS(y, sm.add_constant(X[included])).fit()\n",
    "            pvalues = model.pvalues.iloc[1:]  # Ignorar o intercepto\n",
    "            worst_pval = pvalues.max()\n",
    "            if worst_pval > threshold_out:\n",
    "                worst_feature = pvalues.idxmax()\n",
    "                included.remove(worst_feature)\n",
    "                changed = True\n",
    "                if verbose:\n",
    "                    print(f'Removida: {worst_feature}, p-valor = {worst_pval:.4f}')\n",
    "        \n",
    "        if not changed:\n",
    "            break\n",
    "    return included"
   ]
  },
  {
   "cell_type": "code",
   "execution_count": 17,
   "metadata": {},
   "outputs": [
    {
     "name": "stdout",
     "output_type": "stream",
     "text": [
      "\n",
      "Seleção Stepwise no conjunto de treino:\n",
      "Adicionada: tempo_emprego, p-valor = 0.0000\n",
      "Adicionada: sexo_M, p-valor = 0.0000\n",
      "Adicionada: tipo_renda_Empresário, p-valor = 0.0000\n",
      "Adicionada: educacao_Superior completo, p-valor = 0.0000\n",
      "Adicionada: tipo_renda_Pensionista, p-valor = 0.0000\n",
      "Adicionada: idade, p-valor = 0.0000\n",
      "Adicionada: estado_civil_Solteiro, p-valor = 0.0236\n",
      "\n",
      "Variáveis selecionadas: ['tempo_emprego', 'sexo_M', 'tipo_renda_Empresário', 'educacao_Superior completo', 'tipo_renda_Pensionista', 'idade', 'estado_civil_Solteiro']\n",
      "\n",
      "R² na base de testes com modelo stepwise: 0.2680\n"
     ]
    }
   ],
   "source": [
    "# Aplicando stepwise\n",
    "print(\"\\nSeleção Stepwise no conjunto de treino:\")\n",
    "selected_features = stepwise_selection(X_train, y_train)\n",
    "print(\"\\nVariáveis selecionadas:\", selected_features)\n",
    "\n",
    "# Treinando e avaliando o modelo stepwise\n",
    "X_train_selected = X_train[selected_features]\n",
    "X_test_selected = X_test[selected_features]\n",
    "model = LinearRegression()\n",
    "model.fit(X_train_selected, y_train)\n",
    "y_pred = model.predict(X_test_selected)\n",
    "r2_s = r2_score(y_test, y_pred)\n",
    "print(f'\\nR² na base de testes com modelo stepwise: {r2_s:.4f}')"
   ]
  },
  {
   "cell_type": "markdown",
   "metadata": {},
   "source": [
    "5. Compare os parâmetros e avalie eventuais diferenças. Qual modelo você acha o melhor de todos?"
   ]
  },
  {
   "cell_type": "code",
   "execution_count": 18,
   "metadata": {},
   "outputs": [
    {
     "name": "stdout",
     "output_type": "stream",
     "text": [
      "\n",
      "Comparação entre os métodos:\n",
      "Melhor R² Ridge: 0.2682 (Alpha = 0.1)\n",
      "Melhor R² Lasso: 0.2682 (Alpha = 0.1)\n",
      "R² Stepwise: 0.2680\n",
      "\n",
      "Melhor resultado geral: Lasso com R² = 0.2682\n",
      "Alpha do melhor modelo: 0.1\n"
     ]
    }
   ],
   "source": [
    "# Comparação final\n",
    "print(\"\\nComparação entre os métodos:\")\n",
    "print(f\"Melhor R² Ridge: {best_r2_r:.4f} (Alpha = {best_alpha_r})\")\n",
    "print(f\"Melhor R² Lasso: {best_r2_l:.4f} (Alpha = {best_alpha_l})\")\n",
    "print(f\"R² Stepwise: {r2_s:.4f}\")\n",
    "\n",
    "best_method = max([('Ridge', best_r2_r, best_alpha_r), \n",
    "                   ('Lasso', best_r2_l, best_alpha_l), \n",
    "                   ('Stepwise', r2_s, None)], \n",
    "                  key=lambda x: x[1])\n",
    "\n",
    "print(f'\\nMelhor resultado geral: {best_method[0]} com R² = {best_method[1]:.4f}')\n",
    "if best_method[0] != 'Stepwise':\n",
    "    print(f'Alpha do melhor modelo: {best_method[2]}')"
   ]
  },
  {
   "cell_type": "markdown",
   "metadata": {},
   "source": [
    "6. Partindo dos modelos que você ajustou, tente melhorar o $R^2$ na base de testes. Use a criatividade, veja se consegue inserir alguma transformação ou combinação de variáveis."
   ]
  },
  {
   "cell_type": "code",
   "execution_count": 19,
   "metadata": {},
   "outputs": [],
   "source": [
    "# Criando relação entre variáveis\n",
    "# 1. Interações\n",
    "X['idade_x_qtd_filhos'] = X['idade'] * X['qtd_filhos']\n",
    "\n",
    "# 2. Razão\n",
    "X['tempo_emprego_por_idade'] = X['tempo_emprego'] / X['idade'].replace(0, 1e-6)\n",
    "\n",
    "# Atualizando a lista de variáveis numéricas com as novas features\n",
    "num_ext = num + ['idade_x_qtd_filhos', 'tempo_emprego_por_idade']"
   ]
  },
  {
   "cell_type": "code",
   "execution_count": 20,
   "metadata": {},
   "outputs": [],
   "source": [
    "X[num_ext] = X[num_ext].fillna(X[num_ext].mean())\n",
    "# Garantindo que y seja numérico\n",
    "y = pd.to_numeric(y, errors='coerce').fillna(y.mean())\n",
    "\n",
    "# Escalando as variáveis numéricas\n",
    "scaler = StandardScaler()\n",
    "X[num_ext] = scaler.fit_transform(X[num_ext])\n",
    "\n",
    "# Separando em treinamento (75%) e teste (25%)\n",
    "X_train, X_test, y_models_train, y_test = train_test_split(X, y, test_size=0.25, random_state=42)"
   ]
  },
  {
   "cell_type": "code",
   "execution_count": 21,
   "metadata": {},
   "outputs": [
    {
     "name": "stdout",
     "output_type": "stream",
     "text": [
      "\n",
      "Resultados Lasso na base de testes:\n",
      "Alpha: 0, R²: 0.2682\n",
      "Alpha: 0.001, R²: 0.2682\n",
      "Alpha: 0.005, R²: 0.2682\n",
      "Alpha: 0.01, R²: 0.2682\n",
      "Alpha: 0.05, R²: 0.2682\n",
      "Alpha: 0.1, R²: 0.2682\n"
     ]
    }
   ],
   "source": [
    "# Lasso\n",
    "print(\"\\nResultados Lasso na base de testes:\")\n",
    "best_r2_lasso = -float('inf')\n",
    "best_alpha_lasso = None\n",
    "for alpha in alphas:\n",
    "    if alpha == 0:\n",
    "        model = LinearRegression()\n",
    "    else:\n",
    "        model = Lasso(alpha=alpha, max_iter=10000)\n",
    "    model.fit(X_train, y_train)\n",
    "    y_pred = model.predict(X_test)\n",
    "    r2 = r2_score(y_test, y_pred)\n",
    "    print(f'Alpha: {alpha}, R²: {r2:.4f}')\n",
    "    if r2 > best_r2_lasso:\n",
    "        best_r2_lasso = r2\n",
    "        best_alpha_lasso = alpha"
   ]
  },
  {
   "cell_type": "markdown",
   "metadata": {},
   "source": [
    "7. Ajuste uma árvore de regressão e veja se consegue um $R^2$ melhor com ela."
   ]
  },
  {
   "cell_type": "code",
   "execution_count": 22,
   "metadata": {},
   "outputs": [
    {
     "name": "stdout",
     "output_type": "stream",
     "text": [
      "\n",
      "Resultados da Árvore de Regressão na base de testes:\n",
      "max_depth: None, min_samples_leaf: 1, R²: 0.3005\n",
      "max_depth: None, min_samples_leaf: 5, R²: 0.3155\n",
      "max_depth: None, min_samples_leaf: 10, R²: 0.3628\n",
      "max_depth: 5, min_samples_leaf: 1, R²: 0.3646\n",
      "max_depth: 5, min_samples_leaf: 5, R²: 0.3505\n",
      "max_depth: 5, min_samples_leaf: 10, R²: 0.3508\n",
      "max_depth: 10, min_samples_leaf: 1, R²: 0.3346\n",
      "max_depth: 10, min_samples_leaf: 5, R²: 0.3118\n",
      "max_depth: 10, min_samples_leaf: 10, R²: 0.3665\n",
      "max_depth: 15, min_samples_leaf: 1, R²: 0.3259\n",
      "max_depth: 15, min_samples_leaf: 5, R²: 0.3218\n",
      "max_depth: 15, min_samples_leaf: 10, R²: 0.3646\n",
      "\n",
      "Melhor Árvore de Regressão: max_depth = 10, min_samples_leaf = 10\n",
      "R² na base de testes com a melhor árvore: 0.3665\n",
      "\n",
      "Comparação com modelos anteriores:\n",
      "R² Stepwise: 0.2680\n",
      "R² Melhor Árvore: 0.3665\n",
      "\n",
      "A árvore de regressão melhorou o R² em relação ao Stepwise!\n"
     ]
    }
   ],
   "source": [
    "# Ajustando a árvore de regressão com diferentes hiperparâmetros\n",
    "print(\"\\nResultados da Árvore de Regressão na base de testes:\")\n",
    "best_r2_tree = -float('inf')\n",
    "best_params = None\n",
    "\n",
    "# Testando combinações de profundidade máxima e mínimo de amostras por folha\n",
    "max_depths = [None, 5, 10, 15]  # None = sem limite, 5, 10, 15 = profundidades específicas\n",
    "min_samples_leafs = [1, 5, 10]   # Mínimo de amostras por folha\n",
    "\n",
    "for max_depth in max_depths:\n",
    "    for min_samples_leaf in min_samples_leafs:\n",
    "        model = DecisionTreeRegressor(max_depth=max_depth, min_samples_leaf=min_samples_leaf, random_state=42)\n",
    "        model.fit(X_train, y_train)\n",
    "        y_pred = model.predict(X_test)\n",
    "        r2 = r2_score(y_test, y_pred)\n",
    "        print(f'max_depth: {max_depth}, min_samples_leaf: {min_samples_leaf}, R²: {r2:.4f}')\n",
    "        if r2 > best_r2_tree:\n",
    "            best_r2_tree = r2\n",
    "            best_params = (max_depth, min_samples_leaf)\n",
    "\n",
    "# Resultado da melhor árvore\n",
    "print(f'\\nMelhor Árvore de Regressão: max_depth = {best_params[0]}, min_samples_leaf = {best_params[1]}')\n",
    "print(f'R² na base de testes com a melhor árvore: {best_r2_tree:.4f}')\n",
    "\n",
    "# Comparando com os modelos anteriores\n",
    "r2_stepwise = 0.2680  # Do seu resultado anterior\n",
    "print(\"\\nComparação com modelos anteriores:\")\n",
    "print(f\"R² Stepwise: {r2_stepwise:.4f}\")\n",
    "print(f\"R² Melhor Árvore: {best_r2_tree:.4f}\")\n",
    "\n",
    "if best_r2_tree > r2_stepwise:\n",
    "    print(f\"\\nA árvore de regressão melhorou o R² em relação ao Stepwise!\")\n",
    "else:\n",
    "    print(f\"\\nA árvore de regressão não melhorou o R² em relação ao Stepwise.\")"
   ]
  }
 ],
 "metadata": {
  "kernelspec": {
   "display_name": "Python 3 (ipykernel)",
   "language": "python",
   "name": "python3"
  },
  "language_info": {
   "codemirror_mode": {
    "name": "ipython",
    "version": 3
   },
   "file_extension": ".py",
   "mimetype": "text/x-python",
   "name": "python",
   "nbconvert_exporter": "python",
   "pygments_lexer": "ipython3",
   "version": "3.12.4"
  }
 },
 "nbformat": 4,
 "nbformat_minor": 4
}
